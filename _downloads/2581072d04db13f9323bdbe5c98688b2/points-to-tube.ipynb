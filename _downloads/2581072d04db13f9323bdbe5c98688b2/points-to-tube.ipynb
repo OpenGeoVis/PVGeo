{
  "cells": [
    {
      "cell_type": "code",
      "execution_count": null,
      "metadata": {
        "collapsed": false
      },
      "outputs": [],
      "source": [
        "%matplotlib inline"
      ]
    },
    {
      "cell_type": "markdown",
      "metadata": {},
      "source": [
        "\n# Points to Tube\n\nThis example will demonstrate how to to build a tube from a set of points in\n`vtkPolyData`.\n\nTakes points from a `vtkPolyData` object and constructs a line of those points\nthen builds a polygonal tube around that line with some specified radius and number of sides.\n"
      ]
    },
    {
      "cell_type": "code",
      "execution_count": null,
      "metadata": {
        "collapsed": false
      },
      "outputs": [],
      "source": [
        "import numpy as np\n\n# sphinx_gallery_thumbnail_number = 2\nimport pyvista\n\nfrom PVGeo.filters import PointsToTube"
      ]
    },
    {
      "cell_type": "code",
      "execution_count": null,
      "metadata": {
        "collapsed": false
      },
      "outputs": [],
      "source": [
        "def path(y):\n    \"\"\"Equation: x = a(y-h)^2 + k\"\"\"\n    a = -110.0 / 160.0**2\n    x = a * y**2 + 110.0\n    return x, y\n\n\nx, y = path(np.arange(0.0, 200.0, 25.0))\nzo = np.linspace(9.0, 11.0, num=len(y))\npoints = pyvista.PolyData(np.c_[x, y, zo])\n\npoints.plot(point_size=10)"
      ]
    },
    {
      "cell_type": "code",
      "execution_count": null,
      "metadata": {
        "collapsed": false
      },
      "outputs": [],
      "source": [
        "# Use the filter: here is vtkPolyData containing the tube\ntube = PointsToTube(nearestNbr=True).apply(points)\ntube.plot(color=True)"
      ]
    }
  ],
  "metadata": {
    "kernelspec": {
      "display_name": "Python 3",
      "language": "python",
      "name": "python3"
    },
    "language_info": {
      "codemirror_mode": {
        "name": "ipython",
        "version": 3
      },
      "file_extension": ".py",
      "mimetype": "text/x-python",
      "name": "python",
      "nbconvert_exporter": "python",
      "pygments_lexer": "ipython3",
      "version": "3.8.13"
    }
  },
  "nbformat": 4,
  "nbformat_minor": 0
}