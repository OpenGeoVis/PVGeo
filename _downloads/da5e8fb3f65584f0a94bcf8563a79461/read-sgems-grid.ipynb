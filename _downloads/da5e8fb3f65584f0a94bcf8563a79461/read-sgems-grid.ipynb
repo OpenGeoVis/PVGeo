{
  "cells": [
    {
      "cell_type": "markdown",
      "metadata": {},
      "source": [
        "\n# Read SGeMS Grid\n\nRead SGeMS Grid file formats.\n"
      ]
    },
    {
      "cell_type": "code",
      "execution_count": null,
      "metadata": {
        "collapsed": false
      },
      "outputs": [],
      "source": [
        "# sphinx_gallery_thumbnail_number = 2\nimport os\n\nimport pooch\n\nfrom PVGeo.gslib import SGeMSGridReader"
      ]
    },
    {
      "cell_type": "code",
      "execution_count": null,
      "metadata": {
        "collapsed": false
      },
      "outputs": [],
      "source": [
        "# grid_url = 'http://www.trainingimages.org/uploads/3/4/7/0/34703305/a_wlreferencecat.zip'\nurl = \"https://raw.githubusercontent.com/pyvista/vtk-data/master/Data/A_WLreferenceCAT.sgems\"\nfile_path = pooch.retrieve(url=url, known_hash=None)\n\ngrid = SGeMSGridReader().apply(file_path)\ngrid"
      ]
    },
    {
      "cell_type": "code",
      "execution_count": null,
      "metadata": {
        "collapsed": false
      },
      "outputs": [],
      "source": [
        "warped = grid.cell_data_to_point_data().warp_by_scalar(scale_factor=5)\nwarped.plot()"
      ]
    },
    {
      "cell_type": "code",
      "execution_count": null,
      "metadata": {
        "collapsed": false
      },
      "outputs": [],
      "source": [
        "# grid_url = 'http://www.trainingimages.org/uploads/3/4/7/0/34703305/maules_creek_3d.zip'\nurl = \"https://raw.githubusercontent.com/pyvista/vtk-data/master/Data/Maules_Creek_3D.SGEMS.zip\"\nfile_paths = pooch.retrieve(url=url, known_hash=None, processor=pooch.Unzip())\nfile_path = [f for f in file_paths if os.path.basename(f) == \"Maules_Creek_3D.SGEMS\"][0]\nfile_path"
      ]
    },
    {
      "cell_type": "code",
      "execution_count": null,
      "metadata": {
        "collapsed": false
      },
      "outputs": [],
      "source": [
        "grid = SGeMSGridReader().apply(file_path)\ngrid"
      ]
    },
    {
      "cell_type": "code",
      "execution_count": null,
      "metadata": {
        "collapsed": false
      },
      "outputs": [],
      "source": [
        "grid.plot(categories=True)"
      ]
    },
    {
      "cell_type": "code",
      "execution_count": null,
      "metadata": {
        "collapsed": false
      },
      "outputs": [],
      "source": [
        "# grid_url = 'http://www.trainingimages.org/uploads/3/4/7/0/34703305/ti_horizons_continuous.zip'\nurl = \"https://raw.githubusercontent.com/pyvista/vtk-data/master/Data/TI_horizons_continuous.SGEMS.zip\"\nfile_paths = pooch.retrieve(url=url, known_hash=None, processor=pooch.Unzip())\nfile_path = [f for f in file_paths if os.path.basename(f) == \"TI_horizons_continuous.SGEMS\"][0]\nfile_path"
      ]
    },
    {
      "cell_type": "code",
      "execution_count": null,
      "metadata": {
        "collapsed": false
      },
      "outputs": [],
      "source": [
        "grid = SGeMSGridReader().apply(file_path)\ngrid.threshold([-4, 1.06]).plot(clim=grid.get_data_range())"
      ]
    },
    {
      "cell_type": "code",
      "execution_count": null,
      "metadata": {
        "collapsed": false
      },
      "outputs": [],
      "source": [
        "# grid_url = 'http://www.trainingimages.org/uploads/3/4/7/0/34703305/ti.zip'\nurl = \"https://raw.githubusercontent.com/pyvista/vtk-data/master/Data/ti.sgems.zip\"\nfile_paths = pooch.retrieve(url=url, known_hash=None, processor=pooch.Unzip())\nfile_path = [f for f in file_paths if os.path.basename(f) == \"ti.sgems\"][0]\nfile_path\n\ngrid = SGeMSGridReader().apply(file_path)\ngrid.plot(scalars=\"photo\", cpos=\"xy\", cmap=\"bone\")"
      ]
    },
    {
      "cell_type": "code",
      "execution_count": null,
      "metadata": {
        "collapsed": false
      },
      "outputs": [],
      "source": [
        "grid.plot(scalars=\"seismic\", cpos=\"xy\")"
      ]
    }
  ],
  "metadata": {
    "kernelspec": {
      "display_name": "Python 3",
      "language": "python",
      "name": "python3"
    },
    "language_info": {
      "codemirror_mode": {
        "name": "ipython",
        "version": 3
      },
      "file_extension": ".py",
      "mimetype": "text/x-python",
      "name": "python",
      "nbconvert_exporter": "python",
      "pygments_lexer": "ipython3",
      "version": "3.11.7"
    }
  },
  "nbformat": 4,
  "nbformat_minor": 0
}