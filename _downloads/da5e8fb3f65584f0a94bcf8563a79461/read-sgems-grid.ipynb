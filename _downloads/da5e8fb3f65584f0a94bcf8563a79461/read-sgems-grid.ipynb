{
  "cells": [
    {
      "cell_type": "code",
      "execution_count": null,
      "metadata": {
        "collapsed": false
      },
      "outputs": [],
      "source": [
        "%matplotlib inline"
      ]
    },
    {
      "cell_type": "markdown",
      "metadata": {},
      "source": [
        "\n# Read SGeMS Grid\n\nRead SGeMS Grid file formats.\n"
      ]
    },
    {
      "cell_type": "code",
      "execution_count": null,
      "metadata": {
        "collapsed": false
      },
      "outputs": [],
      "source": [
        "# sphinx_gallery_thumbnail_number = 2\nfrom pyvista import examples\nfrom PVGeo.gslib import SGeMSGridReader"
      ]
    },
    {
      "cell_type": "code",
      "execution_count": null,
      "metadata": {
        "collapsed": false
      },
      "outputs": [],
      "source": [
        "# grid_url = 'http://www.trainingimages.org/uploads/3/4/7/0/34703305/a_wlreferencecat.zip'\nfilename, _ = examples.downloads._download_file('A_WLreferenceCAT.sgems')\n\ngrid = SGeMSGridReader().apply(filename)\nprint(grid)"
      ]
    },
    {
      "cell_type": "code",
      "execution_count": null,
      "metadata": {
        "collapsed": false
      },
      "outputs": [],
      "source": [
        "warped = grid.cell_data_to_point_data().warp_by_scalar(scale_factor=5)\nwarped.plot()"
      ]
    },
    {
      "cell_type": "code",
      "execution_count": null,
      "metadata": {
        "collapsed": false
      },
      "outputs": [],
      "source": [
        "# grid_url = 'http://www.trainingimages.org/uploads/3/4/7/0/34703305/maules_creek_3d.zip'\nfilename, _ = examples.downloads._download_file('Maules_Creek_3D.SGEMS.zip')\n\ngrid = SGeMSGridReader().apply(filename)\ngrid.plot(categories=True)"
      ]
    },
    {
      "cell_type": "code",
      "execution_count": null,
      "metadata": {
        "collapsed": false
      },
      "outputs": [],
      "source": [
        "# grid_url = 'http://www.trainingimages.org/uploads/3/4/7/0/34703305/ti_horizons_continuous.zip'\nfilename, _ = examples.downloads._download_file('TI_horizons_continuous.SGEMS.zip')\n\ngrid = SGeMSGridReader().apply(filename)\ngrid.threshold([-4, 1.06]).plot(clim=grid.get_data_range())"
      ]
    },
    {
      "cell_type": "code",
      "execution_count": null,
      "metadata": {
        "collapsed": false
      },
      "outputs": [],
      "source": [
        "# grid_url = 'http://www.trainingimages.org/uploads/3/4/7/0/34703305/ti.zip'\nfilename, _ = examples.downloads._download_file('ti.sgems.zip')\n\ngrid = SGeMSGridReader().apply(filename)\ngrid.plot(scalars='photo', cpos='xy', cmap='bone')"
      ]
    },
    {
      "cell_type": "code",
      "execution_count": null,
      "metadata": {
        "collapsed": false
      },
      "outputs": [],
      "source": [
        "grid.plot(scalars='seismic', cpos='xy')"
      ]
    }
  ],
  "metadata": {
    "kernelspec": {
      "display_name": "Python 3",
      "language": "python",
      "name": "python3"
    },
    "language_info": {
      "codemirror_mode": {
        "name": "ipython",
        "version": 3
      },
      "file_extension": ".py",
      "mimetype": "text/x-python",
      "name": "python",
      "nbconvert_exporter": "python",
      "pygments_lexer": "ipython3",
      "version": "3.8.8"
    }
  },
  "nbformat": 4,
  "nbformat_minor": 0
}