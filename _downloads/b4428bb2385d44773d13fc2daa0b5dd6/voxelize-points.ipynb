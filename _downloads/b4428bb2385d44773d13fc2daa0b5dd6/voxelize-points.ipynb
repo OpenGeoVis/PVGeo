{
  "cells": [
    {
      "cell_type": "markdown",
      "metadata": {},
      "source": [
        "\n# Voxelize Points\n\nThis example will demonstrate how to connect a set of points defined on a\nregular grid to create a `vtkUnstructuredGrid` which can be used to perform\nvolumetric operations.\n\n\nThis example demos :class:`PVGeo.filters.VoxelizePoints`\n"
      ]
    },
    {
      "cell_type": "code",
      "execution_count": null,
      "metadata": {
        "collapsed": false
      },
      "outputs": [],
      "source": [
        "# sphinx_gallery_thumbnail_number = 2\nimport pandas as pd\nimport pooch\nimport pyvista\n\nimport PVGeo"
      ]
    },
    {
      "cell_type": "markdown",
      "metadata": {},
      "source": [
        "Download sample data files and keep track of names:\n\n"
      ]
    },
    {
      "cell_type": "code",
      "execution_count": null,
      "metadata": {
        "collapsed": false
      },
      "outputs": [],
      "source": [
        "url = \"https://github.com/OpenGeoVis/PVGeo/raw/main/tests/data/fault_points.csv\"\nfile_path = pooch.retrieve(url=url, known_hash=None)"
      ]
    },
    {
      "cell_type": "markdown",
      "metadata": {},
      "source": [
        "Let's go ahead and load a simple file that has XYZ coordinates and a boolean\narray for fault presence. This point cloud makes some sort of regular grid,\nbut we have forgotten the details of the cell spacings and local coordinate\nrotations.\n\nWe will read in this data with ``pandas`` and send it to the\n:func:`PVGeo.points_to_poly_data` helper to create a :class:`pyvista.PolyData`\nobject (essentially a point cloud).\n\n"
      ]
    },
    {
      "cell_type": "code",
      "execution_count": null,
      "metadata": {
        "collapsed": false
      },
      "outputs": [],
      "source": [
        "points = pd.read_csv(file_path)\nprint(points[0:2])"
      ]
    },
    {
      "cell_type": "code",
      "execution_count": null,
      "metadata": {
        "collapsed": false
      },
      "outputs": [],
      "source": [
        "vtkpoints = PVGeo.points_to_poly_data(points)\nvtkpoints"
      ]
    },
    {
      "cell_type": "markdown",
      "metadata": {},
      "source": [
        "Note that we have a :class:`pyvista.PolyData` object now which allows us to do\nall types of immediate plotting of our data. First, lets threshold our points\nas the point cloud has a bunch of zeros and ones throughout the dataspace to\ndescribe the presence of a fault.\n\nTo threshold the points, we call the threshold filter directly on our data\nobject and pass the thresholding value. We can then plot the result by\ncalling the plot function. (Note: change the notebook parameter to\n``False`` for an interactive window)\n\n"
      ]
    },
    {
      "cell_type": "code",
      "execution_count": null,
      "metadata": {
        "collapsed": false
      },
      "outputs": [],
      "source": [
        "vtkpoints.plot(clim=[0, 1], point_size=1)"
      ]
    },
    {
      "cell_type": "markdown",
      "metadata": {},
      "source": [
        "## Points to Voxelized Volume\n\nThe above figure is pretty cool! But it is a point cloud which means out\nfiltering options are pretty limited. Fortunately, we know that the point\ncloud represents some sort of regularized gridded volume of data and PVGeo\nhas a filter to recover that volume. This will allow further volumetric\noperations can be performed with other PVGeo or VTK filters.\n\nRemember that these points are rotated and we do not know the cell sizes...\nthis is okay! The VoxelizePoints filter from PVGeo will handle the recovery of\nthe coordinate rotation and grid our data without running an interpolation\nscheme. The VoxelizePoints filter assumes that the points are structured on some\nrotated XY-plane with regular cell spacings and does the rest on its own!\nCheck out VoxelizePoints code docs for more details.\nThe full pipeline method\n\n"
      ]
    },
    {
      "cell_type": "code",
      "execution_count": null,
      "metadata": {
        "collapsed": false
      },
      "outputs": [],
      "source": [
        "print(\"Voxelizing... \", end=\"\")\nvoxelizer = PVGeo.filters.VoxelizePoints()\ngrid = voxelizer.apply(vtkpoints)\nprint(\"done.\")\n\n# Output the results\nprint(\"Recovered Angle (deg.): %.3f\" % voxelizer.get_angle())\nprint(\"Recovered Cell Sizes: (%.2f, %.2f, %.2f)\" % voxelizer.get_spacing())\ngrid"
      ]
    },
    {
      "cell_type": "markdown",
      "metadata": {},
      "source": [
        "And now we can plot the voxelized volume\n\n"
      ]
    },
    {
      "cell_type": "code",
      "execution_count": null,
      "metadata": {
        "collapsed": false
      },
      "outputs": [],
      "source": [
        "grid.plot()"
      ]
    },
    {
      "cell_type": "markdown",
      "metadata": {},
      "source": [
        "## Filter Volumetric Data\n\nNow lets use one of `PyVista`'s filters to create slices of the thresholded\ndataset. Specifically, we are using the ``slice_orthogonal`` filter that will\ncreate 3 orthogonal slices through a data volume.\n\n"
      ]
    },
    {
      "cell_type": "code",
      "execution_count": null,
      "metadata": {
        "collapsed": false
      },
      "outputs": [],
      "source": [
        "slices = grid.slice_orthogonal()\nslices"
      ]
    },
    {
      "cell_type": "markdown",
      "metadata": {},
      "source": [
        "And let's use a ``clip`` filter:\n\n"
      ]
    },
    {
      "cell_type": "code",
      "execution_count": null,
      "metadata": {
        "collapsed": false
      },
      "outputs": [],
      "source": [
        "clip = grid.clip(normal=\"x\").clip(normal=\"-y\").threshold(0.5)"
      ]
    },
    {
      "cell_type": "markdown",
      "metadata": {},
      "source": [
        "Now display the slices and clipped volume\n\n"
      ]
    },
    {
      "cell_type": "code",
      "execution_count": null,
      "metadata": {
        "collapsed": false
      },
      "outputs": [],
      "source": [
        "p = pyvista.Plotter()\np.add_mesh(slices)\np.add_mesh(clip)\np.show_grid()\np.show()"
      ]
    }
  ],
  "metadata": {
    "kernelspec": {
      "display_name": "Python 3",
      "language": "python",
      "name": "python3"
    },
    "language_info": {
      "codemirror_mode": {
        "name": "ipython",
        "version": 3
      },
      "file_extension": ".py",
      "mimetype": "text/x-python",
      "name": "python",
      "nbconvert_exporter": "python",
      "pygments_lexer": "ipython3",
      "version": "3.12.8"
    }
  },
  "nbformat": 4,
  "nbformat_minor": 0
}