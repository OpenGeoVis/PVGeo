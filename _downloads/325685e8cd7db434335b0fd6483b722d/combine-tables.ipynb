{
  "cells": [
    {
      "cell_type": "code",
      "execution_count": null,
      "metadata": {
        "collapsed": false
      },
      "outputs": [],
      "source": [
        "%matplotlib inline"
      ]
    },
    {
      "cell_type": "markdown",
      "metadata": {},
      "source": [
        "\n# Combine Tables\n\nThis example will demonstrate how to to merge to `vtkTable` objects with the\nsame number of rows into a single `vtkTable`.\n\nThis example demos :class:`PVGeo.filters.CombineTables`\n\nPlease note that this example only works on version of PyVista>=0.22.0\n"
      ]
    },
    {
      "cell_type": "code",
      "execution_count": null,
      "metadata": {
        "collapsed": false
      },
      "outputs": [],
      "source": [
        "import numpy as np\nimport pyvista as pv\nimport PVGeo\nfrom PVGeo.filters import CombineTables"
      ]
    },
    {
      "cell_type": "markdown",
      "metadata": {},
      "source": [
        "Create some input tables\n\n"
      ]
    },
    {
      "cell_type": "code",
      "execution_count": null,
      "metadata": {
        "collapsed": false
      },
      "outputs": [],
      "source": [
        "t0 = pv.Table()\nt1 = pv.Table()\n\n# Populate the tables\nn = 100\ntitles = ('Array 0', 'Array 1', 'Array 2')\narr0 = np.random.random(n) # Table 0\narr1 = np.random.random(n) # Table 0\nt0[titles[0]] = arr0\nt0[titles[1]] = arr1\narr2 = np.random.random(n) # Table 1\nt1[titles[2]] = arr2\narrs = [arr0, arr1, arr2]"
      ]
    },
    {
      "cell_type": "code",
      "execution_count": null,
      "metadata": {
        "collapsed": false
      },
      "outputs": [],
      "source": [
        "print(t0)"
      ]
    },
    {
      "cell_type": "code",
      "execution_count": null,
      "metadata": {
        "collapsed": false
      },
      "outputs": [],
      "source": [
        "print(t1)"
      ]
    },
    {
      "cell_type": "code",
      "execution_count": null,
      "metadata": {
        "collapsed": false
      },
      "outputs": [],
      "source": [
        "# Now use the `CombineTables` filter:\noutput = CombineTables().apply(t0, t1)\nprint(output)"
      ]
    },
    {
      "cell_type": "code",
      "execution_count": null,
      "metadata": {
        "collapsed": false
      },
      "outputs": [],
      "source": [
        "# Here I verify the result\nfor i in range(len(titles)):\n    arr = output[titles[i]]\n    assert(np.allclose(arr, arrs[i], rtol=0.0001))"
      ]
    }
  ],
  "metadata": {
    "kernelspec": {
      "display_name": "Python 3",
      "language": "python",
      "name": "python3"
    },
    "language_info": {
      "codemirror_mode": {
        "name": "ipython",
        "version": 3
      },
      "file_extension": ".py",
      "mimetype": "text/x-python",
      "name": "python",
      "nbconvert_exporter": "python",
      "pygments_lexer": "ipython3",
      "version": "3.8.8"
    }
  },
  "nbformat": 4,
  "nbformat_minor": 0
}