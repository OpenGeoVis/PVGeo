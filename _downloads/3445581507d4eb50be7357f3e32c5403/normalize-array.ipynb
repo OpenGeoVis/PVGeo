{
  "cells": [
    {
      "cell_type": "code",
      "execution_count": null,
      "metadata": {
        "collapsed": false
      },
      "outputs": [],
      "source": [
        "%matplotlib inline"
      ]
    },
    {
      "cell_type": "markdown",
      "metadata": {},
      "source": [
        "\n# Normalize Array\n\nThis example will demonstrate how to perform a normalization or any custom\nmathematical operation on a single data array for an input data set.\n\nThis filter allow the user to select an array from the input data set to be\nnormalized. The filter will append another array to that data set for the\noutput. The user can specify how they want to rename the array, can choose a\nmultiplier, and can choose from two types of common normalizations:\nFeature Scaling and Standard Score.\n\nThis example demos :class:`PVGeo.filters.NormalizeArray`\n"
      ]
    },
    {
      "cell_type": "code",
      "execution_count": null,
      "metadata": {
        "collapsed": false
      },
      "outputs": [],
      "source": [
        "import numpy as np\nimport pyvista\nfrom pyvista import examples\nimport PVGeo\nfrom PVGeo.filters import NormalizeArray"
      ]
    },
    {
      "cell_type": "markdown",
      "metadata": {},
      "source": [
        "Create some input data. this can be any `vtkDataObject`\n\n"
      ]
    },
    {
      "cell_type": "code",
      "execution_count": null,
      "metadata": {
        "collapsed": false
      },
      "outputs": [],
      "source": [
        "mesh = examples.load_uniform()\ntitle = 'Spatial Point Data'\nmesh.plot(scalars=title)"
      ]
    },
    {
      "cell_type": "code",
      "execution_count": null,
      "metadata": {
        "collapsed": false
      },
      "outputs": [],
      "source": [
        "# Apply the filter\nf = NormalizeArray(normalization='feature_scale', new_name='foo')\noutput = f.apply(mesh, title)\nprint(output)"
      ]
    },
    {
      "cell_type": "code",
      "execution_count": null,
      "metadata": {
        "collapsed": false
      },
      "outputs": [],
      "source": [
        "output.plot(scalars='foo')"
      ]
    }
  ],
  "metadata": {
    "kernelspec": {
      "display_name": "Python 3",
      "language": "python",
      "name": "python3"
    },
    "language_info": {
      "codemirror_mode": {
        "name": "ipython",
        "version": 3
      },
      "file_extension": ".py",
      "mimetype": "text/x-python",
      "name": "python",
      "nbconvert_exporter": "python",
      "pygments_lexer": "ipython3",
      "version": "3.8.8"
    }
  },
  "nbformat": 4,
  "nbformat_minor": 0
}