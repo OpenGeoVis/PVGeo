{
  "cells": [
    {
      "cell_type": "code",
      "execution_count": null,
      "metadata": {
        "collapsed": false
      },
      "outputs": [],
      "source": [
        "%matplotlib inline"
      ]
    },
    {
      "cell_type": "markdown",
      "metadata": {},
      "source": [
        "\n# Array Math\n\nThis example will demonstrate how to perform a mathematical operation\nbetween two input arrays for any given source.\n\nThis filter allows the user to select two input data arrays on which to perform\nmath operations. The input arrays are used in their order of selection for the\noperations.\n\n\nThis example demos: :class:`PVGeo.filters.ArrayMath`\n"
      ]
    },
    {
      "cell_type": "code",
      "execution_count": null,
      "metadata": {
        "collapsed": false
      },
      "outputs": [],
      "source": [
        "import numpy as np\nimport pyvista\n\nfrom PVGeo.filters import ArrayMath"
      ]
    },
    {
      "cell_type": "markdown",
      "metadata": {},
      "source": [
        "Create some input data. This can be any `vtkDataObject`\n\n"
      ]
    },
    {
      "cell_type": "code",
      "execution_count": null,
      "metadata": {
        "collapsed": false
      },
      "outputs": [],
      "source": [
        "inp = pyvista.UniformGrid((10, 10, 4))\n# Populate the tables\nn = 400\narr0 = np.random.random(n)\narr1 = np.random.random(n)\ninp['Array 0'] = arr0\ninp['Array 1'] = arr1"
      ]
    },
    {
      "cell_type": "markdown",
      "metadata": {},
      "source": [
        "Use the filter:\n\n"
      ]
    },
    {
      "cell_type": "code",
      "execution_count": null,
      "metadata": {
        "collapsed": false
      },
      "outputs": [],
      "source": [
        "f = ArrayMath(operation='add', new_name='foo')\n# Now get the result\noutput = f.apply(inp, 'Array 0', 'Array 1')\noutput"
      ]
    },
    {
      "cell_type": "markdown",
      "metadata": {},
      "source": [
        "Note that the output now has three arrays\n\n"
      ]
    },
    {
      "cell_type": "code",
      "execution_count": null,
      "metadata": {
        "collapsed": false
      },
      "outputs": [],
      "source": [
        "arr = output['foo']\nassert np.allclose(arr, arr0 + arr1)"
      ]
    },
    {
      "cell_type": "markdown",
      "metadata": {},
      "source": [
        "Use a custom math operation:\n\n"
      ]
    },
    {
      "cell_type": "code",
      "execution_count": null,
      "metadata": {
        "collapsed": false
      },
      "outputs": [],
      "source": [
        "def power(arr0, arr1):\n    return arr0 ** arr1\n\n\n# Use filter generated above\nf.set_operation(power)\nf.set_new_array_name('powered')\nf.update()\n\n# Now get the result\noutput = f.get_output()\noutput"
      ]
    },
    {
      "cell_type": "code",
      "execution_count": null,
      "metadata": {
        "collapsed": false
      },
      "outputs": [],
      "source": [
        "arr = output['powered']\nassert np.allclose(arr, arr0 ** arr1)"
      ]
    },
    {
      "cell_type": "code",
      "execution_count": null,
      "metadata": {
        "collapsed": false
      },
      "outputs": [],
      "source": [
        "output.plot(scalars='powered')"
      ]
    }
  ],
  "metadata": {
    "kernelspec": {
      "display_name": "Python 3",
      "language": "python",
      "name": "python3"
    },
    "language_info": {
      "codemirror_mode": {
        "name": "ipython",
        "version": 3
      },
      "file_extension": ".py",
      "mimetype": "text/x-python",
      "name": "python",
      "nbconvert_exporter": "python",
      "pygments_lexer": "ipython3",
      "version": "3.8.12"
    }
  },
  "nbformat": 4,
  "nbformat_minor": 0
}