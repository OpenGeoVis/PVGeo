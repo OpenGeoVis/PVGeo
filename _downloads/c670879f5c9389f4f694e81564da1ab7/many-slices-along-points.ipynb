{
  "cells": [
    {
      "cell_type": "markdown",
      "metadata": {},
      "source": [
        "\n# Many Slices Along Points\n\nThis example will demonstrate how to slice a 3D data source along some arbitrary\nline or sequence of points specified in another data source to have many slices\nof the 3D data perpendicular to that travel path.\n\nSometimes, we desire to take a path through a model and construct various slices\nalong that path. This example will outline a filter we have developed to take\nsome 3D data set on the pipeline and construct various slices of that model\nalong an input path. The slices will be perpendicular to that path at specified\nintervals. In this example, we also demonstrate a filter that comes native in\nParaView to slice that entire model along the travel path to have a single\nwarped slice.\n\nThis example demos :class:`PVGeo.filters.ManySlicesAlongPoints`\n"
      ]
    },
    {
      "cell_type": "code",
      "execution_count": null,
      "metadata": {
        "collapsed": false
      },
      "outputs": [],
      "source": [
        "import numpy as np"
      ]
    },
    {
      "cell_type": "markdown",
      "metadata": {},
      "source": [
        "sphinx_gallery_thumbnail_number = 3\n\n"
      ]
    },
    {
      "cell_type": "code",
      "execution_count": null,
      "metadata": {
        "collapsed": false
      },
      "outputs": [],
      "source": [
        "import pyvista\nfrom pyvista import examples\n\nimport PVGeo\nfrom PVGeo.filters import ManySlicesAlongPoints"
      ]
    },
    {
      "cell_type": "markdown",
      "metadata": {},
      "source": [
        "Load a volumetric model to be sliced from pyvista's examples\n\n"
      ]
    },
    {
      "cell_type": "code",
      "execution_count": null,
      "metadata": {
        "collapsed": false
      },
      "outputs": [],
      "source": [
        "model = examples.load_channels()\nmodel.plot()"
      ]
    },
    {
      "cell_type": "markdown",
      "metadata": {},
      "source": [
        "Create a series of points that move through that model. These are the points\nwe will use to slice the volume.\n\n"
      ]
    },
    {
      "cell_type": "code",
      "execution_count": null,
      "metadata": {
        "collapsed": false
      },
      "outputs": [],
      "source": [
        "def path(y):\n    \"\"\"Equation: x = a(y-h)^2 + k\"\"\"\n    a = 110.0 / 160.0**2\n    x = a * y**2 + 0.0\n    return x, y\n\n\nx, y = path(np.arange(model.bounds[2], model.bounds[3], 15.0))\nzo = np.linspace(9.0, 11.0, num=len(y))\n# Make a VTK data object for the filter to use\npoints = pyvista.PolyData(np.c_[x, y, zo])\n\np = pyvista.Plotter()\np.add_mesh(model.outline(), color=\"k\")\np.add_mesh(points, point_size=10.0)\np.show()"
      ]
    },
    {
      "cell_type": "markdown",
      "metadata": {},
      "source": [
        "Now we can use the **Many Slices Along Points** filter.\nSpecify the model as the  dataset input and the points as the points input\nto that filter and apply the algorithm.\nThat's it! The filter should be applied and you can fine tune the number of\nslices to what you prefer!\n\n"
      ]
    },
    {
      "cell_type": "code",
      "execution_count": null,
      "metadata": {
        "collapsed": false
      },
      "outputs": [],
      "source": [
        "slices = ManySlicesAlongPoints(n_slices=5).apply(points, model)\nslices"
      ]
    },
    {
      "cell_type": "code",
      "execution_count": null,
      "metadata": {
        "collapsed": false
      },
      "outputs": [],
      "source": [
        "line = PVGeo.filters.AddCellConnToPoints().apply(points)\np = pyvista.Plotter()\np.add_mesh(line, line_width=10)\np.add_mesh(slices, lighting=False)\np.add_mesh(model.outline(), color=\"k\")\np.show()"
      ]
    }
  ],
  "metadata": {
    "kernelspec": {
      "display_name": "Python 3",
      "language": "python",
      "name": "python3"
    },
    "language_info": {
      "codemirror_mode": {
        "name": "ipython",
        "version": 3
      },
      "file_extension": ".py",
      "mimetype": "text/x-python",
      "name": "python",
      "nbconvert_exporter": "python",
      "pygments_lexer": "ipython3",
      "version": "3.11.7"
    }
  },
  "nbformat": 4,
  "nbformat_minor": 0
}