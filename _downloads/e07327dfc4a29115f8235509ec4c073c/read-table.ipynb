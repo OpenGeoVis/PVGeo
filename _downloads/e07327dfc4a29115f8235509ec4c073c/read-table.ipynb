{
  "cells": [
    {
      "cell_type": "markdown",
      "metadata": {},
      "source": [
        "\n# Read GSLib Table\n\nRead any GSLib file as a table :class:`pyvist.Table`\n"
      ]
    },
    {
      "cell_type": "code",
      "execution_count": null,
      "metadata": {
        "collapsed": false
      },
      "outputs": [],
      "source": [
        "import os\n\nimport pooch\n\nfrom PVGeo.grids import TableToTimeGrid\nfrom PVGeo.gslib import GSLibReader"
      ]
    },
    {
      "cell_type": "code",
      "execution_count": null,
      "metadata": {
        "collapsed": false
      },
      "outputs": [],
      "source": [
        "# points_url = 'http://www.trainingimages.org/uploads/3/4/7/0/34703305/sundarbans.zip'\nurl = \"https://raw.githubusercontent.com/pyvista/vtk-data/master/Data/sundarbans.SGEMS.zip\"\nfile_paths = pooch.retrieve(url=url, known_hash=None, processor=pooch.Unzip())\nfile_path = [f for f in file_paths if os.path.basename(f) == \"sundarbans.SGEMS\"][0]\nfile_path"
      ]
    },
    {
      "cell_type": "code",
      "execution_count": null,
      "metadata": {
        "collapsed": false
      },
      "outputs": [],
      "source": [
        "reader = GSLibReader()\ntable = reader.apply(file_path)\n# Print the file header\nprint(reader.get_file_header())"
      ]
    },
    {
      "cell_type": "code",
      "execution_count": null,
      "metadata": {
        "collapsed": false
      },
      "outputs": [],
      "source": [
        "table"
      ]
    },
    {
      "cell_type": "markdown",
      "metadata": {},
      "source": [
        "From inspecting the header, we realize that this dataset is gridded, so let's\nuse the :class:`PVGeo.grid.TableToTimeGrid` filter to create a\n:class:`pyvista.ImageData` of that dataset.\n\n"
      ]
    },
    {
      "cell_type": "code",
      "execution_count": null,
      "metadata": {
        "collapsed": false
      },
      "outputs": [],
      "source": [
        "# 1200 x, 1750 y, 1 z, 1 t\ngrid = TableToTimeGrid(extent=(1200, 1750, 1, 1), order=\"F\").apply(table)\ngrid"
      ]
    },
    {
      "cell_type": "code",
      "execution_count": null,
      "metadata": {
        "collapsed": false
      },
      "outputs": [],
      "source": [
        "grid.plot(cpos=\"xy\")"
      ]
    }
  ],
  "metadata": {
    "kernelspec": {
      "display_name": "Python 3",
      "language": "python",
      "name": "python3"
    },
    "language_info": {
      "codemirror_mode": {
        "name": "ipython",
        "version": 3
      },
      "file_extension": ".py",
      "mimetype": "text/x-python",
      "name": "python",
      "nbconvert_exporter": "python",
      "pygments_lexer": "ipython3",
      "version": "3.11.7"
    }
  },
  "nbformat": 4,
  "nbformat_minor": 0
}