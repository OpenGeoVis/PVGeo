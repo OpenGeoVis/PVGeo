{
  "cells": [
    {
      "cell_type": "code",
      "execution_count": null,
      "metadata": {
        "collapsed": false
      },
      "outputs": [],
      "source": [
        "%matplotlib inline"
      ]
    },
    {
      "cell_type": "markdown",
      "metadata": {},
      "source": [
        "\n# Reshape Table\n\nThis example will demonstrate how to reshape an input table as though it were a 2D array.\n\nThis filter will take a `vtkTable` object and reshape it. This filter essentially treats `vtkTable`s as 2D matrices and reshapes them using `numpy.reshape` in a C contiguous manner. Unfortunately, data fields will be renamed arbitrarily because VTK data arrays require a name.\n\nThis example demos :class:`PVGeo.filters.ReshapeTable`\n"
      ]
    },
    {
      "cell_type": "code",
      "execution_count": null,
      "metadata": {
        "collapsed": false
      },
      "outputs": [],
      "source": [
        "import numpy as np\nimport pyvista as pv\nimport PVGeo\nfrom PVGeo.filters import ReshapeTable"
      ]
    },
    {
      "cell_type": "markdown",
      "metadata": {},
      "source": [
        "Create some input table\n\n"
      ]
    },
    {
      "cell_type": "code",
      "execution_count": null,
      "metadata": {
        "collapsed": false
      },
      "outputs": [],
      "source": [
        "t0 = pv.Table()\n# Populate the tables\narrs = [None, None, None]\nn = 400\nncols = 2\nnrows = int(n * len(arrs) / ncols)\ntitles = ('Array 0', 'Array 1', 'Array 2')\narrs[0] = np.random.random(n)\narrs[1] = np.random.random(n)\narrs[2] = np.random.random(n)\n\nt0[titles[0]] = arrs[0]\nt0[titles[1]] = arrs[1]\nt0[titles[2]] = arrs[2]"
      ]
    },
    {
      "cell_type": "markdown",
      "metadata": {},
      "source": [
        "Use the filter to reshape the table\n\n"
      ]
    },
    {
      "cell_type": "code",
      "execution_count": null,
      "metadata": {
        "collapsed": false
      },
      "outputs": [],
      "source": [
        "order = 'F'\nnewtitles = ['Title %d' % i for i in range(ncols)]\noutput = ReshapeTable(order=order,\n                      ncols=ncols,\n                      nrows=nrows,\n                      names=newtitles).apply(t0)\nprint(output)"
      ]
    },
    {
      "cell_type": "markdown",
      "metadata": {},
      "source": [
        "Check the output\n\n"
      ]
    },
    {
      "cell_type": "code",
      "execution_count": null,
      "metadata": {
        "collapsed": false
      },
      "outputs": [],
      "source": [
        "tarr = np.zeros((nrows, ncols))\nfor i in range(ncols):\n    tarr[:,i] = output[i]\narrs = np.array(arrs).T\narrs = arrs.flatten()\narrs = np.reshape(arrs, (nrows, ncols), order=order)\nassert(tarr.shape == arrs.shape)\nassert(np.allclose(tarr, arrs))"
      ]
    }
  ],
  "metadata": {
    "kernelspec": {
      "display_name": "Python 3",
      "language": "python",
      "name": "python3"
    },
    "language_info": {
      "codemirror_mode": {
        "name": "ipython",
        "version": 3
      },
      "file_extension": ".py",
      "mimetype": "text/x-python",
      "name": "python",
      "nbconvert_exporter": "python",
      "pygments_lexer": "ipython3",
      "version": "3.8.8"
    }
  },
  "nbformat": 4,
  "nbformat_minor": 0
}