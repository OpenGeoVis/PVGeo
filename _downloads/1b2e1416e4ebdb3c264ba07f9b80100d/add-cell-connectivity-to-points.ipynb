{
  "cells": [
    {
      "cell_type": "markdown",
      "metadata": {},
      "source": [
        "\n# Add Cell Connectivity To Points\n\nExample for :class:`PVGeo.filters.AddCellConnToPoints`\n\nThis filter will add **linear** cell connectivity between scattered points.\nYou have the option to add ``VTK_LINE`` or ``VTK_POLYLINE`` connectivity.\n``VTK_LINE`` connectivity makes a straight line between the points in order\n(either in the order by index or using a nearest neighbor calculation).\nThe ``VTK_POLYLINE`` adds polyline connectivity between all points as one\nspline (either in the order by index or using a nearest neighbor calculation).\n"
      ]
    },
    {
      "cell_type": "markdown",
      "metadata": {},
      "source": [
        "sphinx_gallery_thumbnail_number = 2\n\n"
      ]
    },
    {
      "cell_type": "code",
      "execution_count": null,
      "metadata": {
        "collapsed": false
      },
      "outputs": [],
      "source": [
        "import numpy as np\nimport pyvista\n\nfrom PVGeo import points_to_poly_data\nfrom PVGeo.filters import AddCellConnToPoints"
      ]
    },
    {
      "cell_type": "markdown",
      "metadata": {},
      "source": [
        "First, lets generate some points which we'd like to connect\n\n"
      ]
    },
    {
      "cell_type": "code",
      "execution_count": null,
      "metadata": {
        "collapsed": false
      },
      "outputs": [],
      "source": [
        "def path1(y):\n    \"\"\"Equation: x = a(y-h)^2 + k\"\"\"\n    a = -110.0 / 160.0**2\n    x = a * y**2 + 110.0\n    idxs = np.argwhere(x > 0)\n    return x[idxs][:, 0], y[idxs][:, 0]\n\n\nx, y = path1(np.arange(0.0, 200.0, 25.0))\nzo = np.linspace(9.0, 11.0, num=len(y))\ncoords = np.vstack((x, y, zo)).T\n# Shuffle points to demonstrate value of Nearest Neighbor\nnp.random.shuffle(coords)\n\n# Make a VTK data object for the filter to use\nvtkPoints = points_to_poly_data(coords)"
      ]
    },
    {
      "cell_type": "markdown",
      "metadata": {},
      "source": [
        "## Apply the Filter\n\nNow that you have the points generated, lets go ahead and apply\nthe **Add Cell Connectivity To Points** filter from\n*Filters->PVGeo: General Filters->Add Cell Connectivity To Points*.\nThe output data should look really wacky and incorrectly built like the image\nbelow; this is good.\n\n"
      ]
    },
    {
      "cell_type": "code",
      "execution_count": null,
      "metadata": {
        "collapsed": false
      },
      "outputs": [],
      "source": [
        "line = AddCellConnToPoints().apply(vtkPoints)\n\np = pyvista.Plotter()\np.add_mesh(line, line_width=5, point_size=10)\np.show()"
      ]
    },
    {
      "cell_type": "markdown",
      "metadata": {},
      "source": [
        "Remember that in the script given above we shuffle the points to demonstrate\nthat the points make a usable line but we need to reconstruct the order of the\npoints. We do this by using the *Use Nearest Nbr Approx* checkbox; this will\nensure that a usable path is generate from the points.\nGo ahead and use the ``nearest_nbr`` argument for the algorithm.\nNow it looks good (see image below)!\n\n"
      ]
    },
    {
      "cell_type": "code",
      "execution_count": null,
      "metadata": {
        "collapsed": false
      },
      "outputs": [],
      "source": [
        "# Use the filter: Here is vtkPolyData containing the connected line:\nline_o = AddCellConnToPoints(nearest_nbr=True).apply(vtkPoints)\n\np = pyvista.Plotter()\np.add_mesh(line_o, line_width=5, point_size=10)\np.show()"
      ]
    }
  ],
  "metadata": {
    "kernelspec": {
      "display_name": "Python 3",
      "language": "python",
      "name": "python3"
    },
    "language_info": {
      "codemirror_mode": {
        "name": "ipython",
        "version": 3
      },
      "file_extension": ".py",
      "mimetype": "text/x-python",
      "name": "python",
      "nbconvert_exporter": "python",
      "pygments_lexer": "ipython3",
      "version": "3.8.18"
    }
  },
  "nbformat": 4,
  "nbformat_minor": 0
}