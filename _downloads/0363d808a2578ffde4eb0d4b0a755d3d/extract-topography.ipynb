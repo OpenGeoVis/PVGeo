{
  "cells": [
    {
      "cell_type": "code",
      "execution_count": null,
      "metadata": {
        "collapsed": false
      },
      "outputs": [],
      "source": [
        "%matplotlib inline"
      ]
    },
    {
      "cell_type": "markdown",
      "metadata": {},
      "source": [
        "\n# Extract Topography\n\nThis example will demonstrate how to add a cell data field to an input data\nset that defines whether that cell should be active. The activity of the cell\nis determined by whether it is beneath and input topography surface.\n\n\nThis filter adds a new cell data field to an input data source defining whether\nthat cell is beneath some input topography surface.\n\nThis example demos :class:`PVGeo.grids.ExtractTopography`\n\nWe add a cell data field to the input data set as this allows us to use a wide\nrange of input data types. We also add this data array as it will enable users\nto create model discretizations within ParaView for export to external\nprocessing software that need the entire model discretization with an active\ncells field.\n"
      ]
    },
    {
      "cell_type": "code",
      "execution_count": null,
      "metadata": {
        "collapsed": false
      },
      "outputs": [],
      "source": [
        "# sphinx_gallery_thumbnail_number = 6\nimport pyvista\nfrom pyvista import examples\nfrom PVGeo.model_build import CreateTensorMesh\nfrom PVGeo.grids import ExtractTopography\nimport os"
      ]
    },
    {
      "cell_type": "markdown",
      "metadata": {},
      "source": [
        "For the grid data set, let's use one of the Model Building sources\nwith the following parameters:\n\n- Origin: ``[793000, 9192500, 2690]``\n- X Cells: ``'1000 500 50*250 500 1000'``\n- Y Cells: ``'1000 500 55*250 500 1000'``\n- Z Cells: ``'30*100.0 5*250.0 500'``\n\n"
      ]
    },
    {
      "cell_type": "code",
      "execution_count": null,
      "metadata": {
        "collapsed": false
      },
      "outputs": [],
      "source": [
        "mesh = CreateTensorMesh(origin=[793000, 9192500, 2690],\n                        xcellstr='1000 500 50*250 500 1000',\n                        ycellstr='1000 500 55*250 500 1000',\n                        zcellstr='30*100.0 5*250.0 500').apply()\n\nmesh.plot(show_grid=True, color=True, show_edges=True)"
      ]
    },
    {
      "cell_type": "markdown",
      "metadata": {},
      "source": [
        "Now load the topography file from the example data:\n\n"
      ]
    },
    {
      "cell_type": "code",
      "execution_count": null,
      "metadata": {
        "collapsed": false
      },
      "outputs": [],
      "source": [
        "link = 'https://dl.dropbox.com/s/gw5v3tiq68oge3l/Example-Extract-Topo.zip?dl=0'\nexamples.downloads._retrieve_file(link, 'Example-Extract-Topo.zip')\ntopo = pyvista.read(os.path.join(pyvista.EXAMPLES_PATH, 'topo.vtk'))\n\np = pyvista.Plotter()\np.add_mesh(topo, cmap='terrain')\np.add_mesh(mesh, color=True, show_edges=False, opacity=0.75)\np.show_grid()\np.show()"
      ]
    },
    {
      "cell_type": "markdown",
      "metadata": {},
      "source": [
        "Now that you have the topography and a grid data set,\nlet's go ahead and use the **Extract Topography** filter. Be sure to properly\nselect the inputs to the algorithm.\n\n"
      ]
    },
    {
      "cell_type": "code",
      "execution_count": null,
      "metadata": {
        "collapsed": false
      },
      "outputs": [],
      "source": [
        "extracted = ExtractTopography().apply(mesh, topo)\nextracted.plot(scalars='Extracted')"
      ]
    },
    {
      "cell_type": "markdown",
      "metadata": {},
      "source": [
        "op='underneath', tolerance=0.001, offset=0.0, invert=False, remove=False\nThis will show the cells that are active underneath the topography surface\n(0 for above surface and 1 for below surface). Now we can threshold this gridded\ndata set to remove parts of the model that are above the topography surface by\napplying a *Threshold* filter to chop out all values below 1.\n\nThe resulting grid with cells above the topography extracted will look like the\nrendering below:\n\n"
      ]
    },
    {
      "cell_type": "code",
      "execution_count": null,
      "metadata": {
        "collapsed": false
      },
      "outputs": [],
      "source": [
        "threshed = extracted.threshold(0.5)\nthreshed.plot(color=True, show_edges=True)"
      ]
    },
    {
      "cell_type": "markdown",
      "metadata": {},
      "source": [
        "How well did this remove cells above the topography surface?\n\n"
      ]
    },
    {
      "cell_type": "code",
      "execution_count": null,
      "metadata": {
        "collapsed": false
      },
      "outputs": [],
      "source": [
        "p = pyvista.Plotter()\np.add_mesh(topo, cmap='terrain')\np.add_mesh(threshed, color=True, show_edges=True)\np.show_grid()\np.show()"
      ]
    },
    {
      "cell_type": "markdown",
      "metadata": {},
      "source": [
        "Is that extraction too close to the topography surface? To better extract the\ntopographic surface, you can set a tolerance:\n\n"
      ]
    },
    {
      "cell_type": "code",
      "execution_count": null,
      "metadata": {
        "collapsed": false
      },
      "outputs": [],
      "source": [
        "extracted = ExtractTopography(tolerance=100., remove=True).apply(mesh, topo)\n\np = pyvista.Plotter()\np.add_mesh(topo, cmap='terrain')\np.add_mesh(extracted, color=True, show_edges=True)\np.show_grid()\np.show()"
      ]
    },
    {
      "cell_type": "markdown",
      "metadata": {},
      "source": [
        "Note that there are other extraction operations like an ``'intersection'``:\n\n"
      ]
    },
    {
      "cell_type": "code",
      "execution_count": null,
      "metadata": {
        "collapsed": false
      },
      "outputs": [],
      "source": [
        "extracted = ExtractTopography(op='intersection',\n                              remove=True,\n                              tolerance=100.).apply(mesh, topo)\nextracted.plot(color=True, show_edges=True)"
      ]
    }
  ],
  "metadata": {
    "kernelspec": {
      "display_name": "Python 3",
      "language": "python",
      "name": "python3"
    },
    "language_info": {
      "codemirror_mode": {
        "name": "ipython",
        "version": 3
      },
      "file_extension": ".py",
      "mimetype": "text/x-python",
      "name": "python",
      "nbconvert_exporter": "python",
      "pygments_lexer": "ipython3",
      "version": "3.8.8"
    }
  },
  "nbformat": 4,
  "nbformat_minor": 0
}